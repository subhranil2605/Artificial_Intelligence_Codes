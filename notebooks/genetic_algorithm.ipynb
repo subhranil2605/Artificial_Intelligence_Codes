{
 "cells": [
  {
   "cell_type": "markdown",
   "metadata": {},
   "source": [
    "# Genetic Alogrithm"
   ]
  },
  {
   "cell_type": "code",
   "execution_count": 552,
   "metadata": {},
   "outputs": [],
   "source": [
    "import numpy as np\n",
    "from numpy import ndarray"
   ]
  },
  {
   "cell_type": "code",
   "execution_count": 553,
   "metadata": {},
   "outputs": [],
   "source": [
    "def func(x):\n",
    "    return x * (8  - x)"
   ]
  },
  {
   "cell_type": "code",
   "execution_count": 554,
   "metadata": {},
   "outputs": [],
   "source": [
    "class Chromosome:\n",
    "    def __init__(self, size: int, binary_string=None) -> None:\n",
    "        self.size: int = size\n",
    "        self.binary_string = binary_string or ''\n",
    "        self.string_repr = []\n",
    "        \n",
    "        if not binary_string:\n",
    "            self.__make_chromosome()\n",
    "        else:\n",
    "            for bit in self.binary_string:\n",
    "                self.string_repr.append(bit)\n",
    "        \n",
    "        \n",
    "    def __make_chromosome(self) -> None:\n",
    "        self.string_repr: list = np.random.randint(0, 2, size=self.size).tolist()\n",
    "        self.binary_string = ''.join(map(str, self.string_repr))\n",
    "            \n",
    "    \n",
    "    def fitness(self, actual_range: list, func):\n",
    "        decoded_value = int(self.binary_string, 2)\n",
    "        value = (((actual_range[1] - actual_range[0]) / (np.power(2, self.size) - 1)) * decoded_value) + actual_range[0]\n",
    "        return func(value)\n",
    "    \n",
    "    \n",
    "    def single_point_crossover(self, other):\n",
    "        cp = np.random.randint(0, self.size)\n",
    "        \n",
    "        child1 = Chromosome(self.size, self.binary_string[:cp] + other.binary_string[cp:])\n",
    "        child2 = Chromosome(self.size, self.binary_string[:cp] + other.binary_string[cp:])\n",
    "        return child1, child2\n",
    "    \n",
    "    \n",
    "    def mutate(self, pos: int):\n",
    "        self.string_repr[pos] = 0 if self.binary_string[pos] == '1' else 1\n",
    "\n",
    "    \n",
    "    def __repr__(self):\n",
    "        return self.binary_string"
   ]
  },
  {
   "cell_type": "code",
   "execution_count": 555,
   "metadata": {},
   "outputs": [
    {
     "name": "stdout",
     "output_type": "stream",
     "text": [
      "11111110\n"
     ]
    }
   ],
   "source": [
    "chrom = Chromosome(8)\n",
    "print(chrom)"
   ]
  },
  {
   "cell_type": "code",
   "execution_count": 556,
   "metadata": {},
   "outputs": [],
   "source": [
    "class Population:\n",
    "    def __init__(self,\n",
    "                 pop_size: int,\n",
    "                 chromosome_size: int,\n",
    "                 func,\n",
    "                 range_: list, \n",
    "                 crossover_prob: float, \n",
    "                 mutation_prob: float) -> None:\n",
    "        \n",
    "        self.pop_size: int = pop_size\n",
    "        self.chromosome_size: int = chromosome_size\n",
    "        self.func = func\n",
    "        self.range_ = range_\n",
    "        self.crossover_prob = crossover_prob\n",
    "        self.mutation_prob = mutation_prob\n",
    "        self.best_chromosomes = []\n",
    "        self.__make_population()\n",
    "            \n",
    "            \n",
    "    def __make_population(self):\n",
    "        self.population = [Chromosome(self.chromosome_size) for _ in range(self.pop_size)]\n",
    "            \n",
    "    \n",
    "    def fitness_(self):\n",
    "        self.fitness_values = [chrom.fitness(self.range_, self.func) for chrom in self.population]\n",
    "        \n",
    "    \n",
    "    def best_chromosome(self):\n",
    "        best_chromosomes.append(max(self.fitness_values))\n",
    "    \n",
    "    \n",
    "    def binary_tournament(self, chrom1, chrom2):\n",
    "        return chrom1 if chrom1.fitness(self.range_, self.func) >= chrom2.fitness(self.range_, self.func) else chrom2\n",
    "\n",
    "        \n",
    "    def selection(self):\n",
    "        new_pop = []\n",
    "        \n",
    "        while len(new_pop) != self.pop_size:\n",
    "            rand_1 = np.random.randint(0, self.pop_size)\n",
    "            rand_2 = np.random.randint(0, self.pop_size)\n",
    "            if not rand_1 == rand_2:\n",
    "                chrom1 = self.population[rand_1]\n",
    "                chrom2 = self.population[rand_2]\n",
    "                best_chrom = self.binary_tournament(chrom1, chrom2)\n",
    "                new_pop.append(best_chrom)\n",
    "        \n",
    "        \n",
    "        # selecte population is the new population\n",
    "        self.population = new_pop \n",
    "    \n",
    "    \n",
    "    def crossover(self):\n",
    "        nex_pop = []\n",
    "        \n",
    "        while len(nex_pop) != self.pop_size:\n",
    "            # choose two random parents            \n",
    "            parent_1 = self.population[np.random.randint(self.pop_size)]\n",
    "            parent_2 = self.population[np.random.randint(self.pop_size)]\n",
    "\n",
    "            r = np.random.randn()\n",
    "            if r < self.crossover_prob:\n",
    "                child_1, child_2 = parent_1.single_point_crossover(parent_2)\n",
    "                nex_pop.extend([child_1, child_2])\n",
    "            else:\n",
    "                nex_pop.extend([parent_1, parent_2])\n",
    "        \n",
    "        self.population = nex_pop\n",
    "        \n",
    "    \n",
    "    def mutation(self):\n",
    "        for chrom in self.population:\n",
    "            for i in range(len(chrom.binary_string)):\n",
    "                r = np.random.randn()\n",
    "                if r < self.mutation_prob:\n",
    "                    chrom.mutate(i)\n",
    "                \n",
    "    \n",
    "    "
   ]
  },
  {
   "cell_type": "code",
   "execution_count": 557,
   "metadata": {
    "scrolled": false
   },
   "outputs": [
    {
     "name": "stdout",
     "output_type": "stream",
     "text": [
      "[0, 0, 1, 1, 0, 0, 0, 0]\n",
      "[1, 1, 0, 0, 1, 1, 1, 0]\n",
      "[0, 0, 0, 1, 0, 1, 0, 1]\n",
      "[1, 1, 0, 1, 0, 1, 0, 0]\n",
      "[0, 1, 0, 0, 1, 0, 0, 0]\n",
      "[1, 1, 0, 1, 1, 1, 0, 1]\n",
      "[1, 0, 1, 0, 1, 0, 1, 1]\n",
      "[1, 1, 1, 1, 0, 0, 0, 1]\n",
      "[1, 1, 0, 0, 1, 1, 1, 1]\n",
      "[0, 1, 0, 0, 0, 0, 1, 0]\n"
     ]
    }
   ],
   "source": [
    "pop = Population(10, 8, func, [0, 10], 0.8, 0.1)\n",
    "for p in pop.population:\n",
    "    print(p.string_repr)"
   ]
  },
  {
   "cell_type": "code",
   "execution_count": null,
   "metadata": {},
   "outputs": [],
   "source": []
  },
  {
   "cell_type": "code",
   "execution_count": 561,
   "metadata": {},
   "outputs": [],
   "source": [
    "def genetic_algorithm():\n",
    "    # population\n",
    "    pop = Population(10, 8, func, [10, 100], 0.8, 0.1)\n",
    "    \n",
    "    for _ in range(10):\n",
    "        pop.selection()\n",
    "        pop.crossover()\n",
    "#         pop.mutation()\n",
    "        print(pop.population)\n",
    "#         pop.solution()"
   ]
  },
  {
   "cell_type": "code",
   "execution_count": 562,
   "metadata": {},
   "outputs": [
    {
     "name": "stdout",
     "output_type": "stream",
     "text": [
      "[00000011, 01011110, 10111100, 10111100, 10100011, 10100011, 00100101, 00100101, 00100101, 00100101]\n",
      "[00000101, 00000101, 00100101, 00100101, 00100101, 00100101, 00100101, 00100101, 00100101, 00100101]\n",
      "[00100101, 00000101, 00000101, 00100101, 00000101, 00000101, 00100101, 00100101, 00100101, 00100101]\n",
      "[00000101, 00000101, 00100101, 00100101, 00000101, 00000101, 00000101, 00000101, 00000101, 00100101]\n",
      "[00000101, 00000101, 00000101, 00000101, 00000101, 00000101, 00000101, 00000101, 00000101, 00000101]\n",
      "[00000101, 00000101, 00000101, 00000101, 00000101, 00000101, 00000101, 00000101, 00000101, 00000101]\n",
      "[00000101, 00000101, 00000101, 00000101, 00000101, 00000101, 00000101, 00000101, 00000101, 00000101]\n",
      "[00000101, 00000101, 00000101, 00000101, 00000101, 00000101, 00000101, 00000101, 00000101, 00000101]\n",
      "[00000101, 00000101, 00000101, 00000101, 00000101, 00000101, 00000101, 00000101, 00000101, 00000101]\n",
      "[00000101, 00000101, 00000101, 00000101, 00000101, 00000101, 00000101, 00000101, 00000101, 00000101]\n"
     ]
    }
   ],
   "source": [
    "genetic_algorithm()"
   ]
  },
  {
   "cell_type": "code",
   "execution_count": 560,
   "metadata": {},
   "outputs": [
    {
     "data": {
      "text/plain": [
       "-20"
      ]
     },
     "execution_count": 560,
     "metadata": {},
     "output_type": "execute_result"
    }
   ],
   "source": [
    "val = max([func(x) for x in range(10, 101)])\n",
    "val"
   ]
  },
  {
   "cell_type": "code",
   "execution_count": null,
   "metadata": {},
   "outputs": [],
   "source": []
  },
  {
   "cell_type": "code",
   "execution_count": null,
   "metadata": {},
   "outputs": [],
   "source": []
  }
 ],
 "metadata": {
  "kernelspec": {
   "display_name": "Python 3 (ipykernel)",
   "language": "python",
   "name": "python3"
  },
  "language_info": {
   "codemirror_mode": {
    "name": "ipython",
    "version": 3
   },
   "file_extension": ".py",
   "mimetype": "text/x-python",
   "name": "python",
   "nbconvert_exporter": "python",
   "pygments_lexer": "ipython3",
   "version": "3.10.4"
  },
  "vscode": {
   "interpreter": {
    "hash": "8cd2d8d0f717c285aebeea7a022921ec2e4a5c93fafb569ea2c63ee6e5a722b1"
   }
  }
 },
 "nbformat": 4,
 "nbformat_minor": 2
}
