{
 "cells": [
  {
   "cell_type": "code",
   "execution_count": 183,
   "id": "f5d748ff",
   "metadata": {},
   "outputs": [],
   "source": [
    "from collections import deque\n",
    "import numpy as np"
   ]
  },
  {
   "cell_type": "code",
   "execution_count": 184,
   "id": "35c00e4f",
   "metadata": {},
   "outputs": [
    {
     "data": {
      "text/plain": [
       "{'Arad': ['Zerind', 'Sibiu', 'Timisoara'],\n",
       " 'Bucharest': ['Urziceni', 'Pitesti', 'Giurgiu', 'Fagaras'],\n",
       " 'Craiova': ['Drobeta', 'Rimnicu', 'Pitesti'],\n",
       " 'Drobeta': ['Mehadia'],\n",
       " 'Eforie': ['Hirsova'],\n",
       " 'Fagaras': ['Sibiu'],\n",
       " 'Hirsova': ['Urziceni'],\n",
       " 'Iasi': ['Vaslui', 'Neamt'],\n",
       " 'Lugoj': ['Timisoara', 'Mehadia'],\n",
       " 'Oradea': ['Zerind', 'Sibiu'],\n",
       " 'Pitesti': ['Rimnicu'],\n",
       " 'Rimnicu': ['Sibiu'],\n",
       " 'Urziceni': ['Vaslui']}"
      ]
     },
     "execution_count": 184,
     "metadata": {},
     "output_type": "execute_result"
    }
   ],
   "source": [
    "romania_map_graph = dict(\n",
    "    Arad = ['Zerind', 'Sibiu', 'Timisoara'],\n",
    "    Bucharest = [\"Urziceni\", \"Pitesti\", \"Giurgiu\", \"Fagaras\"],\n",
    "    Craiova=[\"Drobeta\", \"Rimnicu\", \"Pitesti\"],\n",
    "    Drobeta=[\"Mehadia\"],\n",
    "    Eforie=[\"Hirsova\"],\n",
    "    Fagaras=[\"Sibiu\"],\n",
    "    Hirsova=[\"Urziceni\"],\n",
    "    Iasi=[\"Vaslui\", \"Neamt\"],\n",
    "    Lugoj=[\"Timisoara\", \"Mehadia\"],\n",
    "    Oradea=[\"Zerind\", \"Sibiu\"],\n",
    "    Pitesti=[\"Rimnicu\"],\n",
    "    Rimnicu=[\"Sibiu\"],\n",
    "    Urziceni=[\"Vaslui\"]\n",
    ")\n",
    "\n",
    "romania_map_graph"
   ]
  },
  {
   "cell_type": "code",
   "execution_count": 185,
   "id": "51296ad1",
   "metadata": {},
   "outputs": [
    {
     "data": {
      "text/plain": [
       "{'Arad': ['Zerind', 'Sibiu', 'Timisoara'],\n",
       " 'Bucharest': ['Urziceni', 'Pitesti', 'Giurgiu', 'Fagaras'],\n",
       " 'Craiova': ['Drobeta', 'Rimnicu', 'Pitesti'],\n",
       " 'Drobeta': ['Mehadia', 'Craiova'],\n",
       " 'Eforie': ['Hirsova'],\n",
       " 'Fagaras': ['Sibiu', 'Bucharest'],\n",
       " 'Hirsova': ['Urziceni', 'Eforie'],\n",
       " 'Iasi': ['Vaslui', 'Neamt'],\n",
       " 'Lugoj': ['Timisoara', 'Mehadia'],\n",
       " 'Oradea': ['Zerind', 'Sibiu'],\n",
       " 'Pitesti': ['Rimnicu', 'Bucharest', 'Craiova'],\n",
       " 'Rimnicu': ['Sibiu', 'Craiova', 'Pitesti'],\n",
       " 'Urziceni': ['Vaslui', 'Bucharest', 'Hirsova'],\n",
       " 'Zerind': ['Arad', 'Oradea'],\n",
       " 'Sibiu': ['Arad', 'Fagaras', 'Oradea', 'Rimnicu'],\n",
       " 'Timisoara': ['Arad', 'Lugoj'],\n",
       " 'Giurgiu': ['Bucharest'],\n",
       " 'Mehadia': ['Drobeta', 'Lugoj'],\n",
       " 'Vaslui': ['Iasi', 'Urziceni'],\n",
       " 'Neamt': ['Iasi']}"
      ]
     },
     "execution_count": 185,
     "metadata": {},
     "output_type": "execute_result"
    }
   ],
   "source": [
    "def make_undirected_graph(graph_dict):\n",
    "    graph = graph_dict\n",
    "    \n",
    "    for parent in list(graph_dict.keys()):\n",
    "        for child in graph_dict[parent]:\n",
    "            if child in graph:\n",
    "                if parent not in graph[child]:\n",
    "                    graph.setdefault(child, []).append(parent)\n",
    "            else:\n",
    "                graph.setdefault(child, []).append(parent)\n",
    "                \n",
    "    return graph\n",
    "        \n",
    "\n",
    "make_undirected_graph(romania_map_graph)"
   ]
  },
  {
   "cell_type": "code",
   "execution_count": 186,
   "id": "e854b53b",
   "metadata": {},
   "outputs": [],
   "source": [
    "def actions(graph, A):\n",
    "    return graph.get(A)\n",
    "\n",
    "\n",
    "\n",
    "def expand(graph, A):\n",
    "    f = []\n",
    "    for action in actions(graph, A):\n",
    "        d = dict()\n",
    "        d.setdefault(\"state\", action)\n",
    "        d.setdefault(\"parent\", A)\n",
    "        f.append(d)\n",
    "    return f\n",
    "\n",
    "\n",
    "\n",
    "def path(start, child, paths):\n",
    "    b = child\n",
    "    path_back = [child['state']]\n",
    "    while b['parent'] != start:\n",
    "        for p in paths:\n",
    "            if p['state'] == b['parent']:\n",
    "                path_back.append(p['state'])\n",
    "                b = p\n",
    "                \n",
    "    return [start] + list(reversed(path_back))\n",
    "\n",
    "\n",
    "def goal_test(A, B):\n",
    "    return A == B"
   ]
  },
  {
   "cell_type": "code",
   "execution_count": 189,
   "id": "90d019b4",
   "metadata": {
    "scrolled": false
   },
   "outputs": [],
   "source": [
    "def bfs(graph, start, end):\n",
    "    node = start\n",
    "    goal = end\n",
    "    \n",
    "    if goal_test(node, goal):\n",
    "        return initial\n",
    "    \n",
    "    frontier = deque([node])\n",
    "    explored = set()\n",
    "    \n",
    "    paths = []\n",
    "    \n",
    "    while frontier:\n",
    "        node = frontier.popleft()\n",
    "        explored.add(node)\n",
    "        \n",
    "        for child in expand(graph, node):                \n",
    "            if child[\"state\"] not in explored and child[\"state\"] not in frontier:\n",
    "                paths.append(child)\n",
    "                \n",
    "                if goal_test(child[\"state\"], goal):\n",
    "                    return path(start, child, paths) \n",
    "                \n",
    "                frontier.append(child[\"state\"])       \n",
    "             \n",
    "    return None"
   ]
  },
  {
   "cell_type": "code",
   "execution_count": 193,
   "id": "ebdf03cc",
   "metadata": {},
   "outputs": [
    {
     "data": {
      "text/plain": [
       "['Arad', 'Zerind', 'Oradea']"
      ]
     },
     "execution_count": 193,
     "metadata": {},
     "output_type": "execute_result"
    }
   ],
   "source": [
    "start = 'Arad'\n",
    "end = 'Oradea'\n",
    "\n",
    "bfs(romania_map_graph, start, end)"
   ]
  },
  {
   "cell_type": "code",
   "execution_count": null,
   "id": "1ff77233",
   "metadata": {},
   "outputs": [],
   "source": []
  }
 ],
 "metadata": {
  "kernelspec": {
   "display_name": "Python 3 (ipykernel)",
   "language": "python",
   "name": "python3"
  },
  "language_info": {
   "codemirror_mode": {
    "name": "ipython",
    "version": 3
   },
   "file_extension": ".py",
   "mimetype": "text/x-python",
   "name": "python",
   "nbconvert_exporter": "python",
   "pygments_lexer": "ipython3",
   "version": "3.10.4"
  }
 },
 "nbformat": 4,
 "nbformat_minor": 5
}
