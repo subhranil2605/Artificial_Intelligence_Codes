{
 "cells": [
  {
   "cell_type": "code",
   "execution_count": 74,
   "id": "972bba01",
   "metadata": {},
   "outputs": [],
   "source": [
    "from abc import ABC, abstractmethod\n",
    "from collections import deque"
   ]
  },
  {
   "cell_type": "code",
   "execution_count": 75,
   "id": "23494868",
   "metadata": {},
   "outputs": [
    {
     "data": {
      "text/plain": [
       "{'Arad': ['Zerind', 'Sibiu', 'Timisoara'],\n",
       " 'Bucharest': ['Urziceni', 'Pitesti', 'Giurgiu', 'Fagaras'],\n",
       " 'Craiova': ['Drobeta', 'Rimnicu', 'Pitesti'],\n",
       " 'Drobeta': ['Mehadia'],\n",
       " 'Eforie': ['Hirsova'],\n",
       " 'Fagaras': ['Sibiu'],\n",
       " 'Hirsova': ['Urziceni'],\n",
       " 'Iasi': ['Vaslui', 'Neamt'],\n",
       " 'Lugoj': ['Timisoara', 'Mehadia'],\n",
       " 'Oradea': ['Zerind', 'Sibiu'],\n",
       " 'Pitesti': ['Rimnicu'],\n",
       " 'Rimnicu': ['Sibiu'],\n",
       " 'Urziceni': ['Vaslui']}"
      ]
     },
     "execution_count": 75,
     "metadata": {},
     "output_type": "execute_result"
    }
   ],
   "source": [
    "# data for the problem of travelling Romania\n",
    "romania_map_graph = dict(\n",
    "    Arad = ['Zerind', 'Sibiu', 'Timisoara'],\n",
    "    Bucharest = [\"Urziceni\", \"Pitesti\", \"Giurgiu\", \"Fagaras\"],\n",
    "    Craiova=[\"Drobeta\", \"Rimnicu\", \"Pitesti\"],\n",
    "    Drobeta=[\"Mehadia\"],\n",
    "    Eforie=[\"Hirsova\"],\n",
    "    Fagaras=[\"Sibiu\"],\n",
    "    Hirsova=[\"Urziceni\"],\n",
    "    Iasi=[\"Vaslui\", \"Neamt\"],\n",
    "    Lugoj=[\"Timisoara\", \"Mehadia\"],\n",
    "    Oradea=[\"Zerind\", \"Sibiu\"],\n",
    "    Pitesti=[\"Rimnicu\"],\n",
    "    Rimnicu=[\"Sibiu\"],\n",
    "    Urziceni=[\"Vaslui\"]\n",
    ")\n",
    "romania_map_graph"
   ]
  },
  {
   "cell_type": "code",
   "execution_count": 76,
   "id": "5f829845",
   "metadata": {},
   "outputs": [],
   "source": [
    "class Problem(ABC):\n",
    "    def __init__(self, initial, goal=None):\n",
    "        self.initial = initial\n",
    "        self.goal = goal\n",
    "        \n",
    "    @abstractmethod\n",
    "    def actions(self, state):\n",
    "        pass\n",
    "    \n",
    "    @abstractmethod\n",
    "    def result(self, state, action):\n",
    "        pass\n",
    "    \n",
    "    def goal_test(self, state):\n",
    "        if isinstance(self.goal, list):\n",
    "            return any(x is state for x in self.goal)\n",
    "        else:\n",
    "            return state == self.goal"
   ]
  },
  {
   "cell_type": "code",
   "execution_count": 77,
   "id": "6edc21f5",
   "metadata": {},
   "outputs": [],
   "source": [
    "class GraphProblem(Problem):\n",
    "    def __init__(self, initial, goal, graph):\n",
    "        super().__init__(initial, goal)\n",
    "        self.graph = graph\n",
    "        \n",
    "    def actions(self, A):\n",
    "        return list(self.graph.get(A))\n",
    "    \n",
    "    def result(self, state, action):\n",
    "        return action"
   ]
  },
  {
   "cell_type": "code",
   "execution_count": 78,
   "id": "3c4f5831",
   "metadata": {},
   "outputs": [],
   "source": [
    "class Graph:\n",
    "    def __init__(self, graph_dict=None, directed=True):\n",
    "        self.graph_dict = graph_dict or {}\n",
    "        self.directed = directed\n",
    "        if not directed:\n",
    "            # make the graph undirected\n",
    "            self.make_undirected()\n",
    "            \n",
    "    def make_undirected(self):\n",
    "        for parent in list(self.graph_dict.keys()):    # keys of the graph dict\n",
    "            for child in self.graph_dict[parent]:      # each value of the value list\n",
    "                \n",
    "                # if the value is in the dict i.e., update the list of the existing parents\n",
    "                if child in self.graph_dict:\n",
    "                    # update the list if the parent is not in it.\n",
    "                    if parent not in self.graph_dict[child]:\n",
    "                        self.connect(child, parent)\n",
    "                \n",
    "                # if the child in not in the dict\n",
    "                else:\n",
    "                    self.connect(child, parent)\n",
    "                \n",
    "    def connect(self, A, B):\n",
    "        self.graph_dict.setdefault(A, []).append(B)\n",
    "        \n",
    "    \n",
    "    def get(self, a, b=None):\n",
    "        links = self.graph_dict.setdefault(a, {})\n",
    "        return links if b is None else links.get(b)\n",
    "    \n",
    "    \n",
    "def UndirectedGraph(graph_dict=None):\n",
    "    return Graph(graph_dict=graph_dict, directed=False)"
   ]
  },
  {
   "cell_type": "code",
   "execution_count": 85,
   "id": "2d973628",
   "metadata": {},
   "outputs": [],
   "source": [
    "class Node:\n",
    "    def __init__(self, state, parent=None, action=None):\n",
    "        self.state = state\n",
    "        self.parent = parent\n",
    "        self.action = action\n",
    "    \n",
    "    def __repr__(self):\n",
    "        return f\"<Node {self.state}>\"\n",
    "    \n",
    "    def expand(self, problem):\n",
    "        return [self.child_node(problem, action)\n",
    "               for action in problem.actions(self.state)]\n",
    "    \n",
    "    def child_node(self, problem, action):\n",
    "        next_state = problem.result(self.state, action)\n",
    "        next_node = Node(next_state, self, action)\n",
    "        return next_node\n",
    "    \n",
    "    def path(self):\n",
    "        node, path_back = self, []\n",
    "        while node:\n",
    "            path_back.append(node)\n",
    "            node = node.parent\n",
    "        return path_back[::-1]"
   ]
  },
  {
   "cell_type": "code",
   "execution_count": 86,
   "id": "1b552472",
   "metadata": {},
   "outputs": [
    {
     "data": {
      "text/plain": [
       "{'Arad': ['Zerind', 'Sibiu', 'Timisoara'],\n",
       " 'Bucharest': ['Urziceni', 'Pitesti', 'Giurgiu', 'Fagaras'],\n",
       " 'Craiova': ['Drobeta', 'Rimnicu', 'Pitesti'],\n",
       " 'Drobeta': ['Mehadia', 'Craiova'],\n",
       " 'Eforie': ['Hirsova'],\n",
       " 'Fagaras': ['Sibiu', 'Bucharest'],\n",
       " 'Hirsova': ['Urziceni', 'Eforie'],\n",
       " 'Iasi': ['Vaslui', 'Neamt'],\n",
       " 'Lugoj': ['Timisoara', 'Mehadia'],\n",
       " 'Oradea': ['Zerind', 'Sibiu'],\n",
       " 'Pitesti': ['Rimnicu', 'Bucharest', 'Craiova'],\n",
       " 'Rimnicu': ['Sibiu', 'Craiova', 'Pitesti'],\n",
       " 'Urziceni': ['Vaslui', 'Bucharest', 'Hirsova'],\n",
       " 'Zerind': ['Arad', 'Oradea'],\n",
       " 'Sibiu': ['Arad', 'Fagaras', 'Oradea', 'Rimnicu'],\n",
       " 'Timisoara': ['Arad', 'Lugoj'],\n",
       " 'Giurgiu': ['Bucharest'],\n",
       " 'Mehadia': ['Drobeta', 'Lugoj'],\n",
       " 'Vaslui': ['Iasi', 'Urziceni'],\n",
       " 'Neamt': ['Iasi']}"
      ]
     },
     "execution_count": 86,
     "metadata": {},
     "output_type": "execute_result"
    }
   ],
   "source": [
    "a = romania_map_graph.copy()\n",
    "\n",
    "a = UndirectedGraph(a)\n",
    "a.graph_dict"
   ]
  },
  {
   "cell_type": "code",
   "execution_count": null,
   "id": "e6a98456",
   "metadata": {},
   "outputs": [],
   "source": []
  },
  {
   "cell_type": "code",
   "execution_count": 81,
   "id": "9e4d657f",
   "metadata": {},
   "outputs": [],
   "source": [
    "def bfs(problem):\n",
    "    node = Node(problem.initial)\n",
    "    \n",
    "    if problem.goal_test(node.state):\n",
    "        return node\n",
    "    \n",
    "    frontier = deque([node])\n",
    "    explored = set()\n",
    "    \n",
    "    while frontier:\n",
    "        node = frontier.popleft()\n",
    "        explored.add(node.state)\n",
    "        for child in node.expand(problem):\n",
    "            if child.state not in explored and child not in frontier:\n",
    "                if problem.goal_test(child.state):\n",
    "                    return child.path()\n",
    "                frontier.append(child)\n",
    "    return None"
   ]
  },
  {
   "cell_type": "code",
   "execution_count": 87,
   "id": "6b77b232",
   "metadata": {},
   "outputs": [],
   "source": [
    "romania_problem = GraphProblem('Arad', 'Bucharest', a)\n",
    "\n",
    "path = bfs(romania_problem)"
   ]
  },
  {
   "cell_type": "code",
   "execution_count": 88,
   "id": "02ce60d1",
   "metadata": {},
   "outputs": [
    {
     "name": "stdout",
     "output_type": "stream",
     "text": [
      "Arad\n",
      "Sibiu\n",
      "Fagaras\n",
      "Bucharest\n"
     ]
    }
   ],
   "source": [
    "for p in path:\n",
    "    print(p.state)"
   ]
  },
  {
   "cell_type": "code",
   "execution_count": null,
   "id": "9be59172",
   "metadata": {},
   "outputs": [],
   "source": []
  }
 ],
 "metadata": {
  "kernelspec": {
   "display_name": "Python 3 (ipykernel)",
   "language": "python",
   "name": "python3"
  },
  "language_info": {
   "codemirror_mode": {
    "name": "ipython",
    "version": 3
   },
   "file_extension": ".py",
   "mimetype": "text/x-python",
   "name": "python",
   "nbconvert_exporter": "python",
   "pygments_lexer": "ipython3",
   "version": "3.10.4"
  }
 },
 "nbformat": 4,
 "nbformat_minor": 5
}
