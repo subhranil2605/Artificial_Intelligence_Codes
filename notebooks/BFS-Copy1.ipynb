{
 "cells": [
  {
   "cell_type": "code",
   "execution_count": 1,
   "id": "4ad3472c",
   "metadata": {},
   "outputs": [],
   "source": [
    "from abc import ABC, abstractmethod\n",
    "from collections import deque\n",
    "\n",
    "%matplotlib inline\n",
    "import networkx as nx\n",
    "import matplotlib.pyplot as plt\n",
    "from matplotlib import lines\n",
    "\n",
    "from ipywidgets import interact\n",
    "import ipywidgets as widgets\n",
    "from IPython.display import display\n",
    "import time"
   ]
  },
  {
   "cell_type": "code",
   "execution_count": 2,
   "id": "600f55b5",
   "metadata": {},
   "outputs": [],
   "source": [
    "def distance(a, b):\n",
    "    xA, yA = a\n",
    "    xB, yB = b\n",
    "    return np.hypot((xA - xB), (yA - yB))"
   ]
  },
  {
   "cell_type": "code",
   "execution_count": null,
   "id": "90f6bca5",
   "metadata": {},
   "outputs": [],
   "source": [
    "# show map"
   ]
  },
  {
   "cell_type": "code",
   "execution_count": 3,
   "id": "ff216d62",
   "metadata": {},
   "outputs": [],
   "source": [
    "class Problem(ABC):\n",
    "    def __init__(self, initial, goal=None):\n",
    "        self.initial = initial\n",
    "        self.goal = goal\n",
    "        \n",
    "    @abstractmethod\n",
    "    def actions(self, state):\n",
    "        pass\n",
    "    \n",
    "    @abstractmethod\n",
    "    def result(self, state, action):\n",
    "        pass\n",
    "    \n",
    "    def goal_test(self, state):\n",
    "        if isinstance(self.goal, list):\n",
    "            return any(x is state for x in self.goal)\n",
    "        else:\n",
    "            return state == self.goal"
   ]
  },
  {
   "cell_type": "code",
   "execution_count": 4,
   "id": "be483412",
   "metadata": {},
   "outputs": [],
   "source": [
    "class GraphProblem(Problem):\n",
    "    def __init__(self, initial, goal, graph):\n",
    "        super().__init__(initial, goal)\n",
    "        self.graph = graph\n",
    "        \n",
    "    def actions(self, A):\n",
    "        return list(self.graph.get(A).keys())\n",
    "    \n",
    "    def result(self, state, action):\n",
    "        return action\n"
   ]
  },
  {
   "cell_type": "markdown",
   "id": "143b0075",
   "metadata": {},
   "source": [
    "# Graph Class"
   ]
  },
  {
   "cell_type": "code",
   "execution_count": 5,
   "id": "f20f6471",
   "metadata": {},
   "outputs": [],
   "source": [
    "class Graph:\n",
    "    def __init__(self, graph_dict=None, directed=True):\n",
    "        self.graph_dict = graph_dict or {}\n",
    "        self.directed = directed\n",
    "        if not directed:\n",
    "            self.make_undirected()\n",
    "            \n",
    "    def make_undirected(self):\n",
    "        for a in list(self.graph_dict.keys()):\n",
    "            for (b, dist) in self.graph_dict[a].items():\n",
    "                self.connect(b, a, dist)\n",
    "    \n",
    "    def connect(self, A, B, distance):\n",
    "        self.graph_dict.setdefault(A, {})[B] = distance\n",
    "    \n",
    "    \n",
    "    def get(self, a, b=None):\n",
    "        links = self.graph_dict.setdefault(a, {})\n",
    "        return links if b is None else links.get(b)\n",
    "    \n",
    "    def nodes(self):\n",
    "        s1 = set([k for k in self.graph_dict.keys()])\n",
    "        return list()\n",
    "    \n",
    "\n",
    "# undirected graph function\n",
    "def UndirectedGraph(graph_dict=None):\n",
    "    return Graph(graph_dict=graph_dict, directed=False)\n",
    "        "
   ]
  },
  {
   "cell_type": "markdown",
   "id": "6b220e59",
   "metadata": {},
   "source": [
    "# Node Class"
   ]
  },
  {
   "cell_type": "code",
   "execution_count": 6,
   "id": "b6930286",
   "metadata": {},
   "outputs": [],
   "source": [
    "class Node:\n",
    "    def __init__(self, state, parent=None, action=None):\n",
    "        self.state = state\n",
    "        self.parent = parent\n",
    "        self.action = action\n",
    "    \n",
    "    def __repr__(self):\n",
    "        return f\"<Node {self.state}>\"\n",
    "    \n",
    "    def expand(self, problem):\n",
    "        return [self.child_node(problem, action)\n",
    "                for action in problem.actions(self.state)]\n",
    "    \n",
    "    def child_node(self, problem, action):\n",
    "        next_state = problem.result(self.state, action)\n",
    "        next_node = Node(next_state, self, action)\n",
    "        return next_node\n",
    "    \n",
    "    def solution(self):\n",
    "        return [node.action for node in self.path()[1:]]\n",
    "    \n",
    "    def path(self):\n",
    "        node, path_back = self, []\n",
    "        while node:\n",
    "            path_back.append(node)\n",
    "            node = node.parent\n",
    "        return list(reversed(path_back))\n",
    "    "
   ]
  },
  {
   "cell_type": "code",
   "execution_count": 7,
   "id": "f4bfcc7d",
   "metadata": {},
   "outputs": [],
   "source": [
    "romania_map = UndirectedGraph(dict(\n",
    "    Arad=dict(Zerind=75, Sibiu=140, Timisoara=118),\n",
    "    Bucharest=dict(Urziceni=85, Pitesti=101, Giurgiu=90, Fagaras=211),\n",
    "    Craiova=dict(Drobeta=120, Rimnicu=146, Pitesti=138),\n",
    "    Drobeta=dict(Mehadia=75),\n",
    "    Eforie=dict(Hirsova=86),\n",
    "    Fagaras=dict(Sibiu=99),\n",
    "    Hirsova=dict(Urziceni=98),\n",
    "    Iasi=dict(Vaslui=92, Neamt=87),\n",
    "    Lugoj=dict(Timisoara=111, Mehadia=70),\n",
    "    Oradea=dict(Zerind=71, Sibiu=151),\n",
    "    Pitesti=dict(Rimnicu=97),\n",
    "    Rimnicu=dict(Sibiu=80),\n",
    "    Urziceni=dict(Vaslui=142)))"
   ]
  },
  {
   "cell_type": "code",
   "execution_count": 8,
   "id": "3ed07143",
   "metadata": {},
   "outputs": [
    {
     "data": {
      "text/plain": [
       "{'Arad': {'Zerind': 75, 'Sibiu': 140, 'Timisoara': 118},\n",
       " 'Bucharest': {'Urziceni': 85, 'Pitesti': 101, 'Giurgiu': 90, 'Fagaras': 211},\n",
       " 'Craiova': {'Drobeta': 120, 'Rimnicu': 146, 'Pitesti': 138},\n",
       " 'Drobeta': {'Mehadia': 75, 'Craiova': 120},\n",
       " 'Eforie': {'Hirsova': 86},\n",
       " 'Fagaras': {'Sibiu': 99, 'Bucharest': 211},\n",
       " 'Hirsova': {'Urziceni': 98, 'Eforie': 86},\n",
       " 'Iasi': {'Vaslui': 92, 'Neamt': 87},\n",
       " 'Lugoj': {'Timisoara': 111, 'Mehadia': 70},\n",
       " 'Oradea': {'Zerind': 71, 'Sibiu': 151},\n",
       " 'Pitesti': {'Rimnicu': 97, 'Bucharest': 101, 'Craiova': 138},\n",
       " 'Rimnicu': {'Sibiu': 80, 'Craiova': 146, 'Pitesti': 97},\n",
       " 'Urziceni': {'Vaslui': 142, 'Bucharest': 85, 'Hirsova': 98},\n",
       " 'Zerind': {'Arad': 75, 'Oradea': 71},\n",
       " 'Sibiu': {'Arad': 140, 'Fagaras': 99, 'Oradea': 151, 'Rimnicu': 80},\n",
       " 'Timisoara': {'Arad': 118, 'Lugoj': 111},\n",
       " 'Giurgiu': {'Bucharest': 90},\n",
       " 'Mehadia': {'Drobeta': 75, 'Lugoj': 70},\n",
       " 'Vaslui': {'Iasi': 92, 'Urziceni': 142},\n",
       " 'Neamt': {'Iasi': 87}}"
      ]
     },
     "execution_count": 8,
     "metadata": {},
     "output_type": "execute_result"
    }
   ],
   "source": [
    "romania_map.graph_dict"
   ]
  },
  {
   "cell_type": "code",
   "execution_count": 20,
   "id": "7a86a84c",
   "metadata": {},
   "outputs": [],
   "source": [
    "romania_problem = GraphProblem('Bucharest', 'Arad', romania_map)"
   ]
  },
  {
   "cell_type": "code",
   "execution_count": 30,
   "id": "22792428",
   "metadata": {},
   "outputs": [],
   "source": [
    "def bfs(problem):    \n",
    "    \n",
    "    iterations = 0\n",
    "    all_node_colors = []\n",
    "    node_colors = {k: 'white' for k in problem.graph.nodes()}\n",
    "    node = Node(problem.initial)\n",
    "      \n",
    "    if problem.goal_test(node.state):\n",
    "        return node\n",
    "    \n",
    "    frontier = deque([node])\n",
    "    explored = set()\n",
    "    path = []\n",
    "    \n",
    "    while frontier:\n",
    "        node = frontier.popleft()        \n",
    "        explored.add(node.state)        \n",
    "        for child in (expand := node.expand(problem)):\n",
    "            \n",
    "            if child.state not in explored and child not in frontier:\n",
    "                if problem.goal_test(child.state):\n",
    "                    print(child)\n",
    "                    return child.path()\n",
    "                frontier.append(child)\n",
    "    \n",
    "    return None"
   ]
  },
  {
   "cell_type": "code",
   "execution_count": 32,
   "id": "0bb54cff",
   "metadata": {},
   "outputs": [
    {
     "name": "stdout",
     "output_type": "stream",
     "text": [
      "<Node Bucharest>\n",
      "Arad\n",
      "Sibiu\n",
      "Fagaras\n",
      "Bucharest\n"
     ]
    },
    {
     "data": {
      "text/plain": [
       "[None, None, None, None]"
      ]
     },
     "execution_count": 32,
     "metadata": {},
     "output_type": "execute_result"
    }
   ],
   "source": [
    "start = 'Arad'\n",
    "end = 'Bucharest'\n",
    "graph = romania_map\n",
    "\n",
    "romania_problem = GraphProblem(start, end, graph)\n",
    "path = bfs(romania_problem)\n",
    "\n",
    "[print(p.state) for p in path]"
   ]
  },
  {
   "cell_type": "code",
   "execution_count": null,
   "id": "b658c15b",
   "metadata": {},
   "outputs": [],
   "source": []
  },
  {
   "cell_type": "code",
   "execution_count": 3,
   "id": "6ce783c1",
   "metadata": {},
   "outputs": [
    {
     "data": {
      "text/plain": [
       "{'Arad': {'Zerind': 75, 'Sibiu': 140, 'Timisoara': 118},\n",
       " 'Bucharest': {'Urziceni': 85, 'Pitesti': 101, 'Giurgiu': 90, 'Fagaras': 211},\n",
       " 'Craiova': {'Drobeta': 120, 'Rimnicu': 146, 'Pitesti': 138},\n",
       " 'Drobeta': {'Mehadia': 75},\n",
       " 'Eforie': {'Hirsova': 86},\n",
       " 'Fagaras': {'Sibiu': 99},\n",
       " 'Hirsova': {'Urziceni': 98},\n",
       " 'Iasi': {'Vaslui': 92, 'Neamt': 87},\n",
       " 'Lugoj': {'Timisoara': 111, 'Mehadia': 70},\n",
       " 'Oradea': {'Zerind': 71, 'Sibiu': 151},\n",
       " 'Pitesti': {'Rimnicu': 97},\n",
       " 'Rimnicu': {'Sibiu': 80},\n",
       " 'Urziceni': {'Vaslui': 142}}"
      ]
     },
     "execution_count": 3,
     "metadata": {},
     "output_type": "execute_result"
    }
   ],
   "source": [
    "a = dict(\n",
    "    Arad=dict(Zerind=75, Sibiu=140, Timisoara=118),\n",
    "    Bucharest=dict(Urziceni=85, Pitesti=101, Giurgiu=90, Fagaras=211),\n",
    "    Craiova=dict(Drobeta=120, Rimnicu=146, Pitesti=138),\n",
    "    Drobeta=dict(Mehadia=75),\n",
    "    Eforie=dict(Hirsova=86),\n",
    "    Fagaras=dict(Sibiu=99),\n",
    "    Hirsova=dict(Urziceni=98),\n",
    "    Iasi=dict(Vaslui=92, Neamt=87),\n",
    "    Lugoj=dict(Timisoara=111, Mehadia=70),\n",
    "    Oradea=dict(Zerind=71, Sibiu=151),\n",
    "    Pitesti=dict(Rimnicu=97),\n",
    "    Rimnicu=dict(Sibiu=80),\n",
    "    Urziceni=dict(Vaslui=142)\n",
    ")\n",
    "a"
   ]
  },
  {
   "cell_type": "code",
   "execution_count": 6,
   "id": "7d5c60e0",
   "metadata": {},
   "outputs": [
    {
     "data": {
      "text/plain": [
       "{'Arad',\n",
       " 'Bucharest',\n",
       " 'Craiova',\n",
       " 'Drobeta',\n",
       " 'Eforie',\n",
       " 'Fagaras',\n",
       " 'Hirsova',\n",
       " 'Iasi',\n",
       " 'Lugoj',\n",
       " 'Oradea',\n",
       " 'Pitesti',\n",
       " 'Rimnicu',\n",
       " 'Urziceni'}"
      ]
     },
     "execution_count": 6,
     "metadata": {},
     "output_type": "execute_result"
    }
   ],
   "source": [
    "s1 = set([k for k in a.keys()])\n",
    "s1"
   ]
  },
  {
   "cell_type": "code",
   "execution_count": null,
   "id": "9fab05ef",
   "metadata": {},
   "outputs": [],
   "source": [
    "s2 = set([k ])"
   ]
  }
 ],
 "metadata": {
  "kernelspec": {
   "display_name": "Python 3 (ipykernel)",
   "language": "python",
   "name": "python3"
  },
  "language_info": {
   "codemirror_mode": {
    "name": "ipython",
    "version": 3
   },
   "file_extension": ".py",
   "mimetype": "text/x-python",
   "name": "python",
   "nbconvert_exporter": "python",
   "pygments_lexer": "ipython3",
   "version": "3.10.4"
  }
 },
 "nbformat": 4,
 "nbformat_minor": 5
}
