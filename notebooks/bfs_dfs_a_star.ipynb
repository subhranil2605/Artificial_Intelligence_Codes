{
 "cells": [
  {
   "cell_type": "code",
   "execution_count": 118,
   "id": "658553c3",
   "metadata": {},
   "outputs": [],
   "source": [
    "from __future__ import annotations\n",
    "from abc import ABC, abstractmethod\n",
    "from collections import deque\n",
    "import numpy as np\n",
    "import heapq"
   ]
  },
  {
   "cell_type": "markdown",
   "id": "5b73e4ce",
   "metadata": {},
   "source": [
    "# Problem Abstract Class\n",
    "\n",
    "> Blueprint for the problem classes"
   ]
  },
  {
   "cell_type": "code",
   "execution_count": 119,
   "id": "6a419db4",
   "metadata": {},
   "outputs": [],
   "source": [
    "class Problem(ABC):\n",
    "    \"\"\"\n",
    "    Blueprint of the various problems i.e., Abstract class of the problems\n",
    "    \"\"\"\n",
    "    def __init__(self, initial: str, goal: str = None):\n",
    "        self.initial: str = initial      # initial state\n",
    "        self.goal: str = goal            # goal state\n",
    "        \n",
    "        \n",
    "    @abstractmethod\n",
    "    def actions(self, state: str):\n",
    "        \"\"\"\n",
    "        getting the children (list of child) of a node\n",
    "        \n",
    "        :param state: current state\n",
    "        :raises ImplementationError: If not implemented in the extended class \n",
    "        \"\"\"\n",
    "        pass\n",
    "    \n",
    "    \n",
    "    def goal_test(self, state: str) -> bool:\n",
    "        \"\"\"\n",
    "        Test for the state is the goal state or not\n",
    "        \n",
    "        :param state: current state\n",
    "        :returns: if the self.goal and current state are same then returns True ele False\n",
    "        \"\"\"\n",
    "        return state == self.goal"
   ]
  },
  {
   "cell_type": "markdown",
   "id": "c8893dee",
   "metadata": {},
   "source": [
    "## Extends from the Problem Class and Used in Graph Problems"
   ]
  },
  {
   "cell_type": "code",
   "execution_count": 120,
   "id": "0d9dda04",
   "metadata": {},
   "outputs": [],
   "source": [
    "class GraphProblem(Problem):\n",
    "    \"\"\"\n",
    "    Extends from the abstract class Problem, it represents the Graph related problems\n",
    "    like Travelling in Romania problem, etc.\n",
    "    \"\"\"\n",
    "    def __init__(self, initial: str, goal: str, graph: Graph):\n",
    "        \"\"\"\n",
    "        constructor of the GraphProblem\n",
    "        \n",
    "        :param initial: initial state of the proble\n",
    "        :param goal: goal state of the problem\n",
    "        :param graph: Graph instance of the problem\n",
    "        \"\"\"\n",
    "        super().__init__(initial, goal)\n",
    "        self.graph = graph  \n",
    "        \n",
    "        \n",
    "    def actions(self, A: str) -> list:\n",
    "        \"\"\"\n",
    "        neighbor or child of the parent\n",
    "        \n",
    "        :param A: the node to be expanded to get the list of the children\n",
    "        :returns: list of the children\n",
    "        \"\"\"\n",
    "        return list(self.graph.get(A))\n",
    "    \n",
    "    \n",
    "    def path_cost(self, cost_so_far, A, B):\n",
    "        \"\"\"\n",
    "        calculate path cost\n",
    "        \"\"\"\n",
    "        return cost_so_far + self.graph.get(A, B)\n",
    "    \n",
    "    \n",
    "    def h(self, node):\n",
    "        \"\"\"\n",
    "        heuristic value\n",
    "        \"\"\"\n",
    "        heuristic_values = getattr(self.graph, 'heuristics', None)\n",
    "        \n",
    "        return heuristic_values[node]\n",
    "\n",
    "            "
   ]
  },
  {
   "cell_type": "markdown",
   "id": "06db0f92",
   "metadata": {},
   "source": [
    "# Graph Class"
   ]
  },
  {
   "cell_type": "code",
   "execution_count": 121,
   "id": "739e0b49",
   "metadata": {},
   "outputs": [],
   "source": [
    "class Graph:\n",
    "    \"\"\"\n",
    "    Graph class\n",
    "    \n",
    "    \"\"\"\n",
    "    def __init__(self, graph_dict: dict = None, directed: bool = True):\n",
    "        \"\"\"\n",
    "        constructor of the Graph\n",
    "        \n",
    "        :param graph_dict: dictionary representation of the problem\n",
    "        :param directed: if the dictionary is directed or not\n",
    "        \"\"\"\n",
    "        self.graph_dict: dict = graph_dict or {}     \n",
    "        self.directed: bool = directed\n",
    "        \n",
    "        # convert the directed graph into the undirected one\n",
    "        if not directed:\n",
    "            self.make_undirected()\n",
    "            \n",
    "            \n",
    "    def make_undirected(self):\n",
    "        \"\"\"\n",
    "        Algorithm to converts the directed graph into an undirected one.\n",
    "        \"\"\"\n",
    "        for parent in list(self.graph_dict.keys()):    # parent: keys of the dict\n",
    "            for child in self.graph_dict[parent]:      # each child of the parent \n",
    "                \n",
    "                # if the child is in the dict i.e., there exists a key in the dict named as the current child\n",
    "                if child in self.graph_dict:\n",
    "                    # if the parent of which the current child is generated\n",
    "                    # is not the list of the child's value\n",
    "                    if parent not in self.graph_dict[child]:\n",
    "                        # update the list of child's value\n",
    "                        # add the parent in the child's value list\n",
    "                        self.connect(child, parent)\n",
    "                \n",
    "                # if the child doesn't exist in the dict\n",
    "                else:\n",
    "                    # create the child key with a empty list in the dict\n",
    "                    # and append the parent in the list\n",
    "                    self.connect(child, parent)\n",
    "\n",
    "                           \n",
    "    def connect(self, A: str, B: str):\n",
    "        \"\"\"\n",
    "        Create a key if not in the dict OR Update the list of the existing key's value\n",
    "        \n",
    "        :param A: key of the dict to be craeted or selected for update\n",
    "        :param B: value to be inserted in the list of the key's value\n",
    "        \"\"\"\n",
    "        self.graph_dict.setdefault(A, []).append(B)\n",
    "        \n",
    "        \n",
    "    def get(self, a: str, b=None):\n",
    "        \"\"\"\n",
    "        Class method to get the value of a key of the dict\n",
    "        :param a: the key to get the value from it\n",
    "        :returns: if key a not exists then returns empty dict or the a's values\n",
    "        \"\"\"\n",
    "        links = self.graph_dict.setdefault(a, {})\n",
    "        if b:\n",
    "            return links.get(b)\n",
    "        else:\n",
    "            return links\n",
    "\n",
    "    \n",
    "\n",
    "def UndirectedGraph(graph_dict: dict = None) -> Graph:\n",
    "    \"\"\"\n",
    "    Creating the undirected graph\n",
    "    :param graph_dict: dictionary of the problem\n",
    "    :returns: undirected representation of the graph as a Graph instance\n",
    "    \"\"\"\n",
    "    return Graph(graph_dict=graph_dict, directed=False)"
   ]
  },
  {
   "cell_type": "markdown",
   "id": "2c685db1",
   "metadata": {},
   "source": [
    "# Node Class"
   ]
  },
  {
   "cell_type": "code",
   "execution_count": 122,
   "id": "bbc7d817",
   "metadata": {},
   "outputs": [],
   "source": [
    "class Node:\n",
    "    \"\"\"\n",
    "    Node class\n",
    "    \n",
    "    \"\"\"\n",
    "    def __init__(self, state: str, parent: Node = None, path_cost=0):\n",
    "        \"\"\"\n",
    "        constructor of the Node class\n",
    "        :param state: current state\n",
    "        :param parent: previous node from which the current node is expanded, default None\n",
    "         \"\"\"\n",
    "        self.state: str = state\n",
    "        self.parent: Node = parent\n",
    "        self.path_cost = path_cost\n",
    "        self.depth = 0\n",
    "        if parent:\n",
    "            self.depth = parent.depth + 1\n",
    "\n",
    "    \n",
    "    def __repr__(self):\n",
    "        \"\"\" Overrides the 'repr' method \"\"\" \n",
    "        return f\"<Node {self.state}>\"\n",
    "    \n",
    "    \n",
    "    def __lt__(self, other):\n",
    "        \"\"\"Compares two nodes\"\"\"\n",
    "        return self.state < other.state\n",
    "\n",
    "    \n",
    "    def expand(self, problem: GraphProblem) -> list[Node]:\n",
    "        \"\"\"\n",
    "        Expand the current node or state\n",
    "        :param problem: Problem instance\n",
    "        :returns: the list of the child nodes \n",
    "         \"\"\"\n",
    "        return [self.child_node(action) for action in problem.actions(self.state)]\n",
    "\n",
    "    \n",
    "    def child_node(self, action: str) -> Node:\n",
    "        \"\"\"\n",
    "        create a child node with the\n",
    "        > state: child state\n",
    "        > parent: current Node\n",
    "        > and path cost to get to the child\n",
    "        \n",
    "        :param action: child state\n",
    "        :returns: child Node instance\n",
    "        \n",
    "        \"\"\"\n",
    "        next_node = Node(action, self, problem.path_cost(self.path_cost, self.state, action))\n",
    "        \n",
    "        return next_node\n",
    "\n",
    "    \n",
    "    def path(self) -> list[Node]:\n",
    "        \"\"\"\n",
    "        Gives the path from start to goal node\n",
    "        \"\"\"\n",
    "        node: Node = self           # node: current Node\n",
    "        path_back: list = list()    # path_back: empty list\n",
    "              \n",
    "        while node:\n",
    "            # append the node in the path_back\n",
    "            path_back.append(node)  \n",
    "\n",
    "            # now the current node is the parent of the current node\n",
    "            node = node.parent      \n",
    "\n",
    "        # returns the reversed list of the path     \n",
    "        return path_back[::-1]\n",
    "\n",
    "    \n",
    "def print_path(path: list):\n",
    "    \"\"\"Print the path from start to goal\"\"\"\n",
    "    [print(p.state, end=\" => \") if i != len(path) - 1 else print(p.state) for i, p in enumerate(path)]\n",
    "            \n"
   ]
  },
  {
   "cell_type": "code",
   "execution_count": 123,
   "id": "44b689cf",
   "metadata": {},
   "outputs": [],
   "source": [
    "class PriorityQueue:\n",
    "    def __init__(self, order='min', f=lambda x: x):\n",
    "        \"\"\"\n",
    "        Constructor method of the priority queue. \n",
    "        returns minimum value if 'min' and max value if 'max' \n",
    "        priority depends on the function f\n",
    "        \"\"\"\n",
    "        self.heap = []\n",
    "        if order == 'min':\n",
    "            self.f = f\n",
    "        elif order == 'max':\n",
    "            self.f = lambda x: -f(x)\n",
    "        else:\n",
    "            raise ValueError('Order must be min or max')\n",
    "            \n",
    "        \n",
    "    def append(self, item):\n",
    "        \"\"\"Insert element in the priority queue\"\"\"\n",
    "        heapq.heappush(self.heap, (self.f(item), item))\n",
    "        \n",
    "    \n",
    "    def extend(self, items):\n",
    "        \"\"\"Extends list of elements in the priority queue\"\"\"\n",
    "        for item in items:\n",
    "            self.append(item)\n",
    "            \n",
    "            \n",
    "    def pop(self):\n",
    "        \"\"\"Returns the most priority value and deleted it from the priority queue\"\"\"\n",
    "        if self.heap:\n",
    "            return heapq.heappop(self.heap)[1]\n",
    "        else:\n",
    "            raise Exception('Trying to pop from empty PriorityQueue.')\n",
    "            \n",
    "            \n",
    "    def __len__(self):\n",
    "        \"\"\"Return current capacity of priority queue.\"\"\"\n",
    "        return len(self.heap)\n",
    "\n",
    "    \n",
    "    def __contains__(self, key):\n",
    "        \"\"\"Return True if the key is in priority queue.\"\"\"\n",
    "        return any([item == key for _, item in self.heap])\n",
    "\n",
    "    \n",
    "    def __getitem__(self, key):\n",
    "        \"\"\"Returns the first value associated with key in priority queue.\n",
    "        Raises KeyError if key is not present.\"\"\"\n",
    "        for value, item in self.heap:\n",
    "            if item == key:\n",
    "                return value\n",
    "        raise KeyError(str(key) + \" is not in the priority queue\")\n",
    "        \n",
    "\n",
    "    def __delitem__(self, key):\n",
    "        \"\"\"Delete the first occurrence of key.\"\"\"\n",
    "        try:\n",
    "            del self.heap[[item == key for _, item in self.heap].index(True)]\n",
    "        except ValueError:\n",
    "            raise KeyError(str(key) + \" is not in the priority queue\")\n",
    "        heapq.heapify(self.heap)"
   ]
  },
  {
   "cell_type": "markdown",
   "id": "c5c49ff8",
   "metadata": {},
   "source": [
    "# Search Algorithms"
   ]
  },
  {
   "cell_type": "markdown",
   "id": "451db297",
   "metadata": {},
   "source": [
    "# Breadth First Graph Search"
   ]
  },
  {
   "cell_type": "code",
   "execution_count": 124,
   "id": "da1d0cc5",
   "metadata": {},
   "outputs": [],
   "source": [
    "def breadth_first_search(problem: GraphProblem) -> list | None:\n",
    "    \"\"\"\n",
    "    Breadth First Search using Graph Search. Records the visited states\n",
    "    :param problem: GraphProblem instance of the problem\n",
    "    :returns: path of the start to goal or None at the failure to find the path\n",
    "    \"\"\"\n",
    "    # initial node\n",
    "    node: Node = Node(problem.initial)\n",
    "\n",
    "    # checks if the initial state is the goal state\n",
    "    if problem.goal_test(node.state):\n",
    "        return node\n",
    "\n",
    "    # queue\n",
    "    frontier: deque = deque([node])\n",
    "\n",
    "    # storing the visited nodes in a set\n",
    "    explored: set = set()\n",
    "\n",
    "    while frontier:\n",
    "        node = frontier.popleft()       # select the first element from the queue\n",
    "        explored.add(node.state)        # add the node to the visited set\n",
    "\n",
    "        for child in node.expand(problem):\n",
    "            # if the child not in explored and not in the queue \n",
    "            if child.state not in explored and child not in frontier:\n",
    "                if problem.goal_test(child.state):\n",
    "                    return child.path()\n",
    "                frontier.append(child)\n",
    "\n",
    "\n",
    "    # if the path is not found then returns None\n",
    "    return None"
   ]
  },
  {
   "cell_type": "markdown",
   "id": "530d33a7",
   "metadata": {},
   "source": [
    "# Depth First Graph Search"
   ]
  },
  {
   "cell_type": "code",
   "execution_count": 125,
   "id": "62f8860c",
   "metadata": {},
   "outputs": [],
   "source": [
    "def depth_first_search(problem):\n",
    "    \"\"\"\n",
    "    Depth First Search using Graph Search\n",
    "    :param problem: GraphProblem instance of the problem\n",
    "    :returns: path of the start to goal or None at the failure to find the path\n",
    "    \"\"\"\n",
    "    frontier = [(Node(problem.initial))]  # Stack\n",
    "\n",
    "    explored = set()\n",
    "    while frontier:\n",
    "        node = frontier.pop()            # select the last element from the stack\n",
    "        \n",
    "        # checks if the node is the goal state or not\n",
    "        if problem.goal_test(node.state):\n",
    "            return node.path()\n",
    "        \n",
    "        explored.add(node.state)       # add the node to the visited set\n",
    "        \n",
    "        for child in node.expand(problem):\n",
    "            # if the child not in explored and not in the stack\n",
    "            if child.state not in explored and child not in frontier:\n",
    "                frontier.append(child)\n",
    "        \n",
    "    \n",
    "    # if the path is not found then returns None\n",
    "    return None"
   ]
  },
  {
   "cell_type": "code",
   "execution_count": 126,
   "id": "21acadab",
   "metadata": {},
   "outputs": [],
   "source": [
    "def astar_search(problem):\n",
    "    \"\"\"\n",
    "    A* Search using Graph Search\n",
    "    :param problem: GraphProblem instance of the problem\n",
    "    :returns: path of the start to goal or None at the failure to find the path\n",
    "    \"\"\"\n",
    "    \n",
    "    # evaluation function\n",
    "    def f(n):\n",
    "        return n.path_cost + problem.h(n.state)\n",
    "       \n",
    "    node = Node(problem.initial)        # initial node\n",
    "    frontier = PriorityQueue('min', f)  # priority queue to store the nodes\n",
    "    frontier.append(node)               # appending initial node\n",
    "    explored = set()                    # visited node set\n",
    "    \n",
    "    \n",
    "    while frontier:\n",
    "        node = frontier.pop()              # node with minimum g(n) + h(n)\n",
    "        \n",
    "        # checks if the current node is the goal or not\n",
    "        if problem.goal_test(node.state):\n",
    "            return node.path()\n",
    "        \n",
    "        # add the node to visited set\n",
    "        explored.add(node.state)\n",
    "        \n",
    "        # expand the node \n",
    "        for child in node.expand(problem):\n",
    "            \n",
    "            # if the child is not in the priority queue and visited set\n",
    "            # then add it in the priority queue\n",
    "            if child.state not in explored and child not in frontier:\n",
    "                frontier.append(child)\n",
    "            \n",
    "            # if the child in the priority queue\n",
    "            elif child in frontier:\n",
    "                if f(child) < frontier[child]:\n",
    "                    del frontier[child]\n",
    "                    frontier.append(child)\n",
    "                    \n",
    "                    \n",
    "    return None\n",
    "                    "
   ]
  },
  {
   "cell_type": "markdown",
   "id": "0522d034",
   "metadata": {},
   "source": [
    "# Graph Problem Given"
   ]
  },
  {
   "cell_type": "code",
   "execution_count": 127,
   "id": "88ae20eb",
   "metadata": {},
   "outputs": [
    {
     "data": {
      "text/plain": [
       "{'S': {'F': 3, 'B': 1, 'A': 2},\n",
       " 'A': {'D': 3, 'C': 2},\n",
       " 'B': {'E': 4, 'D': 2},\n",
       " 'C': {'G': 4},\n",
       " 'D': {'G': 4},\n",
       " 'F': {'G': 6}}"
      ]
     },
     "execution_count": 127,
     "metadata": {},
     "output_type": "execute_result"
    }
   ],
   "source": [
    "# directed graph\n",
    "problem_graph = Graph(dict(\n",
    "    S = dict(F=3, B=1, A=2),\n",
    "    A = dict(D=3, C=2),\n",
    "    B = dict(E=4, D=2),\n",
    "    C = dict(G=4),\n",
    "    D = dict(G=4),\n",
    "    F = dict(G=6)\n",
    "))\n",
    "\n",
    "# printing the graph\n",
    "problem_graph.graph_dict"
   ]
  },
  {
   "cell_type": "code",
   "execution_count": 128,
   "id": "4cf96fb2",
   "metadata": {},
   "outputs": [
    {
     "name": "stdout",
     "output_type": "stream",
     "text": [
      "{'S': 6, 'A': 4, 'B': 5, 'C': 2, 'D': 2, 'E': 8, 'F': 4, 'G': 0}\n"
     ]
    }
   ],
   "source": [
    "# adding the heuristics attribute to the problem graph instance\n",
    "problem_graph.heuristics = dict(\n",
    "    S=6,\n",
    "    A=4,\n",
    "    B=5,\n",
    "    C=2,\n",
    "    D=2,\n",
    "    E=8,\n",
    "    F=4,\n",
    "    G=0,\n",
    ")\n",
    "\n",
    "print(problem_graph.heuristics)"
   ]
  },
  {
   "cell_type": "markdown",
   "id": "38b3a128",
   "metadata": {},
   "source": [
    "# Parameters"
   ]
  },
  {
   "cell_type": "code",
   "execution_count": 129,
   "id": "3c82090f",
   "metadata": {},
   "outputs": [],
   "source": [
    "start = 'S'\n",
    "end = 'G'\n",
    "\n",
    "problem = GraphProblem(start, end, problem_graph)"
   ]
  },
  {
   "cell_type": "markdown",
   "id": "c82467c5",
   "metadata": {},
   "source": [
    "### Breadth first graph search solution"
   ]
  },
  {
   "cell_type": "code",
   "execution_count": 130,
   "id": "5bc0a14b",
   "metadata": {},
   "outputs": [
    {
     "name": "stdout",
     "output_type": "stream",
     "text": [
      "Breadth First Search\n",
      "S => F => G\n",
      "Path Cost 9\n"
     ]
    }
   ],
   "source": [
    "bfs_path = breadth_first_search(problem)\n",
    "\n",
    "print(\"Breadth First Search\")\n",
    "print_path(bfs_path)\n",
    "\n",
    "print(f\"Path Cost {bfs_path[-1].path_cost}\")"
   ]
  },
  {
   "cell_type": "markdown",
   "id": "9403f6e9",
   "metadata": {},
   "source": [
    "### Depth first graph search solution"
   ]
  },
  {
   "cell_type": "code",
   "execution_count": 131,
   "id": "12338377",
   "metadata": {},
   "outputs": [
    {
     "name": "stdout",
     "output_type": "stream",
     "text": [
      "Depth First Search\n",
      "S => A => C => G\n",
      "Path Cost 8\n"
     ]
    }
   ],
   "source": [
    "dfs_path = depth_first_search(problem)\n",
    "\n",
    "print(\"Depth First Search\")\n",
    "print_path(dfs_path)\n",
    "\n",
    "print(f\"Path Cost {dfs_path[-1].path_cost}\")"
   ]
  },
  {
   "cell_type": "markdown",
   "id": "13d3c13b",
   "metadata": {},
   "source": [
    "### A*  graph search solution"
   ]
  },
  {
   "cell_type": "code",
   "execution_count": 132,
   "id": "4c449646",
   "metadata": {},
   "outputs": [
    {
     "name": "stdout",
     "output_type": "stream",
     "text": [
      "A* Search\n",
      "S => B => D => G\n",
      "Path Cost 7\n"
     ]
    }
   ],
   "source": [
    "a_star_path = astar_search(problem)\n",
    "\n",
    "print(\"A* Search\")\n",
    "print_path(a_star_path)\n",
    "\n",
    "print(f\"Path Cost {a_star_path[-1].path_cost}\")"
   ]
  },
  {
   "cell_type": "code",
   "execution_count": null,
   "id": "db213e1a",
   "metadata": {},
   "outputs": [],
   "source": []
  }
 ],
 "metadata": {
  "kernelspec": {
   "display_name": "Python 3 (ipykernel)",
   "language": "python",
   "name": "python3"
  },
  "language_info": {
   "codemirror_mode": {
    "name": "ipython",
    "version": 3
   },
   "file_extension": ".py",
   "mimetype": "text/x-python",
   "name": "python",
   "nbconvert_exporter": "python",
   "pygments_lexer": "ipython3",
   "version": "3.10.4"
  }
 },
 "nbformat": 4,
 "nbformat_minor": 5
}
