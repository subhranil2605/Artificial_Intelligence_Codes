{
 "cells": [
  {
   "cell_type": "code",
   "execution_count": 1,
   "id": "4a6136bb",
   "metadata": {},
   "outputs": [],
   "source": [
    "from abc import ABC, abstractmethod\n",
    "from collections import deque"
   ]
  },
  {
   "cell_type": "code",
   "execution_count": 2,
   "id": "fb0f1d96",
   "metadata": {},
   "outputs": [
    {
     "data": {
      "text/plain": [
       "{'Arad': ['Zerind', 'Sibiu', 'Timisoara'],\n",
       " 'Bucharest': ['Urziceni', 'Pitesti', 'Giurgiu', 'Fagaras'],\n",
       " 'Craiova': ['Drobeta', 'Rimnicu', 'Pitesti'],\n",
       " 'Drobeta': ['Mehadia'],\n",
       " 'Eforie': ['Hirsova'],\n",
       " 'Fagaras': ['Sibiu'],\n",
       " 'Hirsova': ['Urziceni'],\n",
       " 'Iasi': ['Vaslui', 'Neamt'],\n",
       " 'Lugoj': ['Timisoara', 'Mehadia'],\n",
       " 'Oradea': ['Zerind', 'Sibiu'],\n",
       " 'Pitesti': ['Rimnicu'],\n",
       " 'Rimnicu': ['Sibiu'],\n",
       " 'Urziceni': ['Vaslui']}"
      ]
     },
     "execution_count": 2,
     "metadata": {},
     "output_type": "execute_result"
    }
   ],
   "source": [
    "# data for the problem of travelling Romania\n",
    "romania_map_graph = dict(\n",
    "    Arad = ['Zerind', 'Sibiu', 'Timisoara'],\n",
    "    Bucharest = [\"Urziceni\", \"Pitesti\", \"Giurgiu\", \"Fagaras\"],\n",
    "    Craiova=[\"Drobeta\", \"Rimnicu\", \"Pitesti\"],\n",
    "    Drobeta=[\"Mehadia\"],\n",
    "    Eforie=[\"Hirsova\"],\n",
    "    Fagaras=[\"Sibiu\"],\n",
    "    Hirsova=[\"Urziceni\"],\n",
    "    Iasi=[\"Vaslui\", \"Neamt\"],\n",
    "    Lugoj=[\"Timisoara\", \"Mehadia\"],\n",
    "    Oradea=[\"Zerind\", \"Sibiu\"],\n",
    "    Pitesti=[\"Rimnicu\"],\n",
    "    Rimnicu=[\"Sibiu\"],\n",
    "    Urziceni=[\"Vaslui\"]\n",
    ")\n",
    "romania_map_graph"
   ]
  },
  {
   "cell_type": "code",
   "execution_count": 3,
   "id": "3f912ad9",
   "metadata": {},
   "outputs": [],
   "source": [
    "class Problem(ABC):\n",
    "    def __init__(self, initial, goal=None):\n",
    "        self.initial = initial\n",
    "        self.goal = goal\n",
    "        \n",
    "    @abstractmethod\n",
    "    def actions(self, state):\n",
    "        pass\n",
    "    \n",
    "    @abstractmethod\n",
    "    def result(self, state, action):\n",
    "        pass\n",
    "    \n",
    "    def goal_test(self, state):\n",
    "        if isinstance(self.goal, list):\n",
    "            return any(x is state for x in self.goal)\n",
    "        else:\n",
    "            return state == self.goal"
   ]
  },
  {
   "cell_type": "code",
   "execution_count": 4,
   "id": "6285bbac",
   "metadata": {},
   "outputs": [],
   "source": [
    "class GraphProblem(Problem):\n",
    "    def __init__(self, initial, goal, graph):\n",
    "        super().__init__(initial, goal)\n",
    "        self.graph = graph\n",
    "        \n",
    "    def actions(self, A):\n",
    "        return list(self.graph.get(A))\n",
    "    \n",
    "    def result(self, state, action):\n",
    "        return action"
   ]
  },
  {
   "cell_type": "code",
   "execution_count": 5,
   "id": "6b92a57c",
   "metadata": {},
   "outputs": [],
   "source": [
    "class Graph:\n",
    "    def __init__(self, graph_dict=None, directed=True):\n",
    "        self.graph_dict = graph_dict or {}\n",
    "        self.directed = directed\n",
    "        if not directed:\n",
    "            # make the graph undirected\n",
    "            self.make_undirected()\n",
    "            \n",
    "    def make_undirected(self):\n",
    "        for parent in list(self.graph_dict.keys()):    # keys of the graph dict\n",
    "            for child in self.graph_dict[parent]:      # each value of the value list\n",
    "                \n",
    "                # if the value is in the dict i.e., update the list of the existing parents\n",
    "                if child in self.graph_dict:\n",
    "                    # update the list if the parent is not in it.\n",
    "                    if parent not in self.graph_dict[child]:\n",
    "                        self.connect(child, parent)\n",
    "                \n",
    "                # if the child in not in the dict\n",
    "                else:\n",
    "                    self.connect(child, parent)\n",
    "                \n",
    "    def connect(self, A, B):\n",
    "        self.graph_dict.setdefault(A, []).append(B)\n",
    "        \n",
    "    \n",
    "    def get(self, a, b=None):\n",
    "        links = self.graph_dict.setdefault(a, {})\n",
    "        return links if b is None else links.get(b)\n",
    "    \n",
    "    \n",
    "def UndirectedGraph(graph_dict=None):\n",
    "    return Graph(graph_dict=graph_dict, directed=False)"
   ]
  },
  {
   "cell_type": "code",
   "execution_count": 6,
   "id": "1e656a6e",
   "metadata": {},
   "outputs": [],
   "source": [
    "class Node:\n",
    "    def __init__(self, state, parent=None, action=None):\n",
    "        self.state = state\n",
    "        self.parent = parent\n",
    "        self.action = action\n",
    "    \n",
    "    def __repr__(self):\n",
    "        return f\"<Node {self.state}>\"\n",
    "    \n",
    "    def expand(self, problem):\n",
    "        return [self.child_node(problem, action)\n",
    "               for action in problem.actions(self.state)]\n",
    "    \n",
    "    def child_node(self, problem, action):\n",
    "        next_state = problem.result(self.state, action)\n",
    "        next_node = Node(next_state, self, action)\n",
    "        return next_node\n",
    "    \n",
    "    def path(self):\n",
    "        node, path_back = self, []\n",
    "        while node:\n",
    "            path_back.append(node)\n",
    "            node = node.parent\n",
    "        return path_back[::-1]"
   ]
  },
  {
   "cell_type": "code",
   "execution_count": 7,
   "id": "0d20f0fe",
   "metadata": {},
   "outputs": [
    {
     "data": {
      "text/plain": [
       "{'Arad': ['Zerind', 'Sibiu', 'Timisoara'],\n",
       " 'Bucharest': ['Urziceni', 'Pitesti', 'Giurgiu', 'Fagaras'],\n",
       " 'Craiova': ['Drobeta', 'Rimnicu', 'Pitesti'],\n",
       " 'Drobeta': ['Mehadia', 'Craiova'],\n",
       " 'Eforie': ['Hirsova'],\n",
       " 'Fagaras': ['Sibiu', 'Bucharest'],\n",
       " 'Hirsova': ['Urziceni', 'Eforie'],\n",
       " 'Iasi': ['Vaslui', 'Neamt'],\n",
       " 'Lugoj': ['Timisoara', 'Mehadia'],\n",
       " 'Oradea': ['Zerind', 'Sibiu'],\n",
       " 'Pitesti': ['Rimnicu', 'Bucharest', 'Craiova'],\n",
       " 'Rimnicu': ['Sibiu', 'Craiova', 'Pitesti'],\n",
       " 'Urziceni': ['Vaslui', 'Bucharest', 'Hirsova'],\n",
       " 'Zerind': ['Arad', 'Oradea'],\n",
       " 'Sibiu': ['Arad', 'Fagaras', 'Oradea', 'Rimnicu'],\n",
       " 'Timisoara': ['Arad', 'Lugoj'],\n",
       " 'Giurgiu': ['Bucharest'],\n",
       " 'Mehadia': ['Drobeta', 'Lugoj'],\n",
       " 'Vaslui': ['Iasi', 'Urziceni'],\n",
       " 'Neamt': ['Iasi']}"
      ]
     },
     "execution_count": 7,
     "metadata": {},
     "output_type": "execute_result"
    }
   ],
   "source": [
    "a = romania_map_graph.copy()\n",
    "\n",
    "a = UndirectedGraph(a)\n",
    "a.graph_dict"
   ]
  },
  {
   "cell_type": "code",
   "execution_count": 57,
   "id": "fcb17c93",
   "metadata": {},
   "outputs": [],
   "source": [
    "def depth_first_graph_search(problem):\n",
    "    \n",
    "    node = Node(problem.initial)\n",
    "    frontier = deque([node])\n",
    "    explored = set()\n",
    "    \n",
    "    while frontier:\n",
    "        print(frontier)\n",
    "        node = frontier.popleft()\n",
    "        \n",
    "        if problem.goal_test(node.state):\n",
    "            return node.path()\n",
    "        \n",
    "        explored.add(node.state)\n",
    "        \n",
    "        for child in node.expand(problem):\n",
    "            if child.state not in explored and child not in frontier:\n",
    "                frontier.appendleft(child)\n",
    "        \n",
    "                \n",
    "    return None"
   ]
  },
  {
   "cell_type": "code",
   "execution_count": 58,
   "id": "896a5213",
   "metadata": {},
   "outputs": [],
   "source": [
    "graph = UndirectedGraph(dict(\n",
    "    S=[\"A\", \"D\"],\n",
    "    A=[\"B\", \"D\"],\n",
    "    D=[\"E\"],\n",
    "    B=[\"C\", \"E\"],\n",
    "    E=[\"F\"],\n",
    "    F=[\"G\"]\n",
    "))"
   ]
  },
  {
   "cell_type": "code",
   "execution_count": 59,
   "id": "dd24ec09",
   "metadata": {},
   "outputs": [
    {
     "name": "stdout",
     "output_type": "stream",
     "text": [
      "deque([<Node S>])\n",
      "deque([<Node D>, <Node A>])\n",
      "deque([<Node A>, <Node E>, <Node A>])\n",
      "deque([<Node B>, <Node E>, <Node A>])\n",
      "deque([<Node E>, <Node C>, <Node E>, <Node A>])\n",
      "deque([<Node F>, <Node C>, <Node E>, <Node A>])\n",
      "deque([<Node G>, <Node C>, <Node E>, <Node A>])\n"
     ]
    }
   ],
   "source": [
    "map_problem = GraphProblem('S', 'G', graph)\n",
    "\n",
    "path = depth_first_graph_search(map_problem)"
   ]
  },
  {
   "cell_type": "code",
   "execution_count": 60,
   "id": "442ce176",
   "metadata": {},
   "outputs": [
    {
     "data": {
      "text/plain": [
       "[<Node S>, <Node D>, <Node A>, <Node B>, <Node E>, <Node F>, <Node G>]"
      ]
     },
     "execution_count": 60,
     "metadata": {},
     "output_type": "execute_result"
    }
   ],
   "source": [
    "path"
   ]
  },
  {
   "cell_type": "code",
   "execution_count": 51,
   "id": "e2e97542",
   "metadata": {},
   "outputs": [
    {
     "name": "stdout",
     "output_type": "stream",
     "text": [
      "state: S parent: None\n",
      "state: D parent: <Node S>\n",
      "state: A parent: <Node D>\n",
      "state: B parent: <Node A>\n",
      "state: E parent: <Node B>\n",
      "state: F parent: <Node E>\n",
      "state: G parent: <Node F>\n"
     ]
    }
   ],
   "source": [
    "for p in path:\n",
    "    print(f\"state: {p.state} parent: {p.parent}\")"
   ]
  },
  {
   "cell_type": "code",
   "execution_count": null,
   "id": "19e72e1d",
   "metadata": {},
   "outputs": [],
   "source": []
  }
 ],
 "metadata": {
  "kernelspec": {
   "display_name": "Python 3 (ipykernel)",
   "language": "python",
   "name": "python3"
  },
  "language_info": {
   "codemirror_mode": {
    "name": "ipython",
    "version": 3
   },
   "file_extension": ".py",
   "mimetype": "text/x-python",
   "name": "python",
   "nbconvert_exporter": "python",
   "pygments_lexer": "ipython3",
   "version": "3.10.4"
  }
 },
 "nbformat": 4,
 "nbformat_minor": 5
}
